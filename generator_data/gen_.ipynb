{
 "cells": [
  {
   "cell_type": "code",
   "execution_count": null,
   "metadata": {},
   "outputs": [],
   "source": [
    "!pip install pandas python-dotenv\n",
    "! pip install cx_Oracle sqlalchemy"
   ]
  },
  {
   "cell_type": "code",
   "execution_count": null,
   "metadata": {},
   "outputs": [],
   "source": [
    "from dotenv import load_dotenv\n",
    "load_dotenv('.env')\n",
    "\n",
    "import os\n",
    "hostname = os.getenv('hostname')\n",
    "port = os.getenv('port')\n",
    "sid = os.getenv('sid')\n",
    "# service_name = os.getenv('service_name')\n",
    "username = os.getenv('username')\n",
    "password = os.getenv('password')"
   ]
  },
  {
   "cell_type": "code",
   "execution_count": null,
   "metadata": {},
   "outputs": [],
   "source": [
    "import pandas as pd \n",
    "import time"
   ]
  },
  {
   "cell_type": "code",
   "execution_count": null,
   "metadata": {},
   "outputs": [],
   "source": [
    "df = pd.read_csv('./transaction_data.csv')\n",
    "# fix format time \n",
    "df[\"TransactionTime\"] = pd.to_datetime(df['TransactionTime'])\n",
    "df = df.sort_values(by='TransactionTime', ascending=True)"
   ]
  },
  {
   "cell_type": "code",
   "execution_count": null,
   "metadata": {},
   "outputs": [],
   "source": [
    "df.head()"
   ]
  },
  {
   "cell_type": "code",
   "execution_count": null,
   "metadata": {},
   "outputs": [],
   "source": [
    "from sqlalchemy import create_engine\n",
    "import cx_Oracle\n",
    "\n",
    "# Set up the Oracle connection\n",
    "dsn = cx_Oracle.makedsn(host=hostname, port=port, sid=sid) # result: (DESCRIPTION=(ADDRESS=(PROTOCOL=TCP)(HOST=localhost)(PORT=1521))(CONNECT_DATA=(SERVICE_NAME=ORCLPDB1)))\n",
    "\n",
    "connection = cx_Oracle.connect(user=username, password=password, dsn=dsn)\n",
    "\n",
    "# Create an SQLAlchemy engine\n",
    "engine = create_engine(f'oracle+cx_oracle://{username}:{password}@{dsn}')"
   ]
  },
  {
   "cell_type": "code",
   "execution_count": null,
   "metadata": {},
   "outputs": [],
   "source": [
    "engine"
   ]
  },
  {
   "cell_type": "code",
   "execution_count": null,
   "metadata": {},
   "outputs": [],
   "source": [
    "# print(\"Test connection query\")\n",
    "pd.read_sql_query(\"SELECT * FROM C##MYUSER.BPM_EMPLOYEES\", engine).head(1)"
   ]
  },
  {
   "cell_type": "code",
   "execution_count": 8,
   "metadata": {},
   "outputs": [],
   "source": [
    "from sqlalchemy.dialects.oracle import (\n",
    "                                        FLOAT,\n",
    "                                        NUMBER,\n",
    "                                        VARCHAR2,\n",
    "                                        DATE\n",
    "                                        )\n",
    "\n",
    "dtype = {\"UserId\" : NUMBER,\n",
    "         \"TransactionId\" : NUMBER,      \n",
    "         \"TransactionTime\": DATE,\n",
    "         \"ItemCode\": NUMBER,\n",
    "         \"ItemDescription\": VARCHAR2(255),\n",
    "         \"NumberOfItemsPurchased\": NUMBER,\n",
    "         \"CostPerItem\": FLOAT,\n",
    "         \"Country\": VARCHAR2(124),\n",
    "        }"
   ]
  },
  {
   "cell_type": "code",
   "execution_count": null,
   "metadata": {},
   "outputs": [],
   "source": [
    "# # Define the table name and schema\n",
    "# table_name = 'test_table'\n",
    "# schema_name = 'C##KEVIN'"
   ]
  },
  {
   "cell_type": "markdown",
   "metadata": {},
   "source": [
    "Update : \n",
    "- Import data transaksi was down,\n",
    "- make looping for insert data oracle, for testing cdc with delay 10 second"
   ]
  },
  {
   "cell_type": "code",
   "execution_count": 12,
   "metadata": {},
   "outputs": [],
   "source": [
    "schema_name = 'C##MYUSER'\n",
    "table_name = \"TRANSACTIONS\""
   ]
  },
  {
   "cell_type": "code",
   "execution_count": 10,
   "metadata": {},
   "outputs": [],
   "source": [
    "# runing query in oracle\n",
    "from sqlalchemy import create_engine, Table, MetaData, Column, Integer, String, Float, Date\n",
    "\n",
    "# Initialize metadata object\n",
    "metadata = MetaData()\n",
    "\n",
    "# Define the table\n",
    "table = Table(\n",
    "   table_name, metadata, \n",
    "   Column('UserId', Integer), \n",
    "   Column('TransactionId', Integer),\n",
    "   Column('TransactionTime', Date),\n",
    "   Column('ItemCode', Integer),\n",
    "   Column('ItemDescription', String(255)),\n",
    "   Column('NumberOfItemsPurchased', Integer),\n",
    "   Column('CostPerItem', Float),\n",
    "   Column('Country', String(124)),\n",
    "   schema=schema_name\n",
    ")\n",
    "\n",
    "# Create the table\n",
    "metadata.create_all(engine)"
   ]
  },
  {
   "cell_type": "markdown",
   "metadata": {},
   "source": [
    "Grant that table was create for make able to CDC to kafka"
   ]
  },
  {
   "cell_type": "code",
   "execution_count": null,
   "metadata": {},
   "outputs": [],
   "source": [
    "from sqlalchemy import text\n",
    "\n",
    "# Connect to the database\n",
    "connection = engine.connect()\n",
    "\n",
    "# Define your SQL queries\n",
    "sql_query1 = text(f\"GRANT SELECT ON {schema_name}.{table_name} TO c##dbzuser\")\n",
    "sql_query2 = text(f\"ALTER TABLE {schema_name}.{table_name} ADD SUPPLEMENTAL LOG DATA (ALL) COLUMNS\")\n",
    "\n",
    "# Execute the queries\n",
    "connection.execute(sql_query1)\n",
    "print(f\"Permissions granted successfully on {schema_name}.{table_name} to c##dbzuser\")\n",
    "\n",
    "connection.execute(sql_query2)\n",
    "print(f\"Table {schema_name}.{table_name} altered successfully\")\n"
   ]
  },
  {
   "cell_type": "code",
   "execution_count": null,
   "metadata": {},
   "outputs": [],
   "source": [
    "# Export the DataFrame to the Oracle database\n",
    "\n",
    "# Connect to the database\n",
    "connection = engine.connect()\n",
    "\n",
    "print(\"Import bulk data to Oracle database\")\n",
    "df.to_sql(table_name, connection, schema=schema_name, if_exists='append', index=False, dtype=dtype)\n"
   ]
  },
  {
   "cell_type": "code",
   "execution_count": 14,
   "metadata": {},
   "outputs": [
    {
     "name": "stdout",
     "output_type": "stream",
     "text": [
      "Inserted row 538324 into transactions\n",
      "Inserted row 933959 into transactions\n",
      "Error occurred: This transaction is inactive\n"
     ]
    },
    {
     "name": "stderr",
     "output_type": "stream",
     "text": [
      "/tmp/ipykernel_701654/3280555639.py:12: SAWarning: transaction already deassociated from connection\n",
      "  transaction.rollback()  # Rollback the transaction if an exception occurs\n"
     ]
    }
   ],
   "source": [
    "\n",
    "with engine.connect() as connection:\n",
    "    for i, row in df.iterrows():\n",
    "        transaction = connection.begin()  # Begin transaction for each row\n",
    "        try:\n",
    "            row_df = pd.DataFrame(row).T  # Transform the row into a DataFrame\n",
    "            lower_case_table_name = table_name.lower()  # Convert table name to lower case\n",
    "            row_df.to_sql(lower_case_table_name, connection, schema=schema_name, if_exists='append', index=False, dtype=dtype)\n",
    "            print(f\"Inserted row {i + 1} into {lower_case_table_name}\")\n",
    "            transaction.commit()  # Commit the transaction for each row\n",
    "            time.sleep(2)  # Wait for 1 second\n",
    "        except Exception as e:\n",
    "            transaction.rollback()  # Rollback the transaction if an exception occurs\n",
    "            print(\"Error occurred:\", e)\n"
   ]
  },
  {
   "cell_type": "code",
   "execution_count": null,
   "metadata": {},
   "outputs": [],
   "source": [
    "# Close the connection  \n",
    "connection.close()"
   ]
  }
 ],
 "metadata": {
  "kernelspec": {
   "display_name": "Python 3",
   "language": "python",
   "name": "python3"
  },
  "language_info": {
   "codemirror_mode": {
    "name": "ipython",
    "version": 3
   },
   "file_extension": ".py",
   "mimetype": "text/x-python",
   "name": "python",
   "nbconvert_exporter": "python",
   "pygments_lexer": "ipython3",
   "version": "3.10.12"
  }
 },
 "nbformat": 4,
 "nbformat_minor": 2
}
